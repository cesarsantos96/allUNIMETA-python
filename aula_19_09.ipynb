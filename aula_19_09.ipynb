{
 "cells": [
  {
   "cell_type": "code",
   "execution_count": 6,
   "metadata": {},
   "outputs": [
    {
     "name": "stdout",
     "output_type": "stream",
     "text": [
      "106\n"
     ]
    }
   ],
   "source": [
    "a = 4\n",
    "b = 102 \n",
    "print(a+b)"
   ]
  },
  {
   "cell_type": "code",
   "execution_count": 8,
   "metadata": {},
   "outputs": [
    {
     "name": "stdout",
     "output_type": "stream",
     "text": [
      " o valor em Ceusius é:  37.8˚\n"
     ]
    }
   ],
   "source": [
    "f = float(input('Temperatura em Fahrenheit: '))\n",
    "\n",
    "C = 5*((f-32)/9)\n",
    "\n",
    "print (f' o valor em Ceusius é: {C: 1.1f}'+ '˚')"
   ]
  },
  {
   "cell_type": "code",
   "execution_count": 3,
   "metadata": {},
   "outputs": [
    {
     "name": "stdout",
     "output_type": "stream",
     "text": [
      "12\n",
      "10\n",
      "[1, 2, 3, 4, 5, 6, 7, 8, 9, 'texto qualquer', 22]\n",
      "False\n",
      "7\n",
      "[22, 'texto qualquer', 9, 8, 7, 6, 5, 4]\n",
      "[22, 'texto qualquer', 9, 8, 7, 6, 5, 4, 3, 2, 1]\n",
      "[22, 9, 7, 5, 3, 1]\n",
      "[22, 8, 5, 2]\n",
      "[22, 'texto qualquer', 9, 8, 7, 6, 5, 4, 3, 2, 1, 5]\n",
      "['pão', 'leite', 'café']\n",
      "['pão', 'leite', 'café', 'açucar']\n",
      "['leite', 'café', 'açucar']\n"
     ]
    }
   ],
   "source": [
    "lista =[1,2,3,4,5,6,7,8,9, 'texto qualquer',1.5, 22]\n",
    "\n",
    "print(len(lista))\n",
    "print(lista.index(1.5))\n",
    "lista.remove(1.5)\n",
    "print(lista) \n",
    "lista.reverse()\n",
    "print(23 in lista)\n",
    "print(lista[-7])\n",
    "print(lista[0:8])\n",
    "print(lista[:])\n",
    "print(lista[::2])\n",
    "print(lista[::3])\n",
    "\n",
    "lista.append(5)\n",
    "print(lista)\n",
    "\n",
    "lista = [ 'pão', 'leite', 'café']\n",
    "print(lista)\n",
    "lista.append('açucar')\n",
    "print(lista)\n",
    "lista.remove('pão')\n",
    "print(lista)"
   ]
  },
  {
   "cell_type": "code",
   "execution_count": 7,
   "metadata": {},
   "outputs": [
    {
     "name": "stdout",
     "output_type": "stream",
     "text": [
      "Cesar Santos\n"
     ]
    }
   ],
   "source": [
    "nome1 = input('Coloque seu nome:')\n",
    "nick = input('Coloque seu sobrenome:')\n",
    "\n",
    "print(nome1 +  nick )"
   ]
  },
  {
   "cell_type": "code",
   "execution_count": 1,
   "metadata": {},
   "outputs": [
    {
     "name": "stdout",
     "output_type": "stream",
     "text": [
      "50\n"
     ]
    }
   ],
   "source": [
    "l = int(input('Qual é o tamnho da lado quadrado: '))\n",
    "a = l*l \n",
    "a *= 2\n",
    "\n",
    "print (a)"
   ]
  },
  {
   "cell_type": "code",
   "execution_count": 8,
   "metadata": {},
   "outputs": [
    {
     "name": "stdout",
     "output_type": "stream",
     "text": [
      "68\n"
     ]
    }
   ],
   "source": [
    "num1 = int(input('digite o primeiro numero'))\n",
    "num2 = int(input('digite o primeiro numero'))\n",
    "soma = num1 + num2\n",
    "#print (f' soma dos numeros é {num1+num2}')\n",
    "# o print  acima utiliza f string \n",
    "print(num1 + num2)"
   ]
  },
  {
   "cell_type": "code",
   "execution_count": null,
   "metadata": {},
   "outputs": [],
   "source": [
    "''''\n",
    "Isso aqui é um exemplo\n",
    "de comentário \n",
    "em bloco \n",
    "'''\n"
   ]
  }
 ],
 "metadata": {
  "kernelspec": {
   "display_name": "Python 3.10.4 64-bit ('3.10.4')",
   "language": "python",
   "name": "python3"
  },
  "language_info": {
   "codemirror_mode": {
    "name": "ipython",
    "version": 3
   },
   "file_extension": ".py",
   "mimetype": "text/x-python",
   "name": "python",
   "nbconvert_exporter": "python",
   "pygments_lexer": "ipython3",
   "version": "3.10.4"
  },
  "orig_nbformat": 4,
  "vscode": {
   "interpreter": {
    "hash": "745b670ce5cd2e8d8999b26b5b66d3bf0e25bd3f27166ea229d63fb2f05f1305"
   }
  }
 },
 "nbformat": 4,
 "nbformat_minor": 2
}
