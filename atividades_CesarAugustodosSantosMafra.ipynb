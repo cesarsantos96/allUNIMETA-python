{
 "cells": [
  {
   "cell_type": "code",
   "execution_count": 1,
   "metadata": {},
   "outputs": [
    {
     "name": "stdout",
     "output_type": "stream",
     "text": [
      "Ólá mundo\n"
     ]
    }
   ],
   "source": [
    "#1\n",
    "\n",
    "a = 'Ólá mundo'\n",
    "\n",
    "print(a)"
   ]
  },
  {
   "cell_type": "code",
   "execution_count": 4,
   "metadata": {},
   "outputs": [
    {
     "name": "stdout",
     "output_type": "stream",
     "text": [
      "O numero informado é   2\n"
     ]
    }
   ],
   "source": [
    "#2 \n",
    "a = int(input(' Digite um número'))\n",
    "\n",
    "print(f'O numero informado é   {a}')"
   ]
  },
  {
   "cell_type": "code",
   "execution_count": 8,
   "metadata": {},
   "outputs": [
    {
     "name": "stdout",
     "output_type": "stream",
     "text": [
      "7\n"
     ]
    }
   ],
   "source": [
    "#3 \n",
    "num1 = int(input( 'Digite o primeiro número:'))\n",
    "\n",
    "num2 = int(input( 'Digite o segundo número: '))\n",
    "\n",
    "soma = num1 + num2\n",
    "\n",
    "print(soma)"
   ]
  },
  {
   "cell_type": "code",
   "execution_count": 15,
   "metadata": {},
   "outputs": [
    {
     "name": "stdout",
     "output_type": "stream",
     "text": [
      "8.25\n"
     ]
    }
   ],
   "source": [
    "#4 \n",
    "n1 = int(input( 'Digite primeira nota:'))\n",
    "\n",
    "n2 = int(input( 'Digite a segunda nota:')) \n",
    "\n",
    "n3 = int(input( 'Digite digite a terceira nota:'))\n",
    "\n",
    "n4 = int(input( 'Digite a quarta nota: '))\n",
    "\n",
    "media = (n1+n2+n3+n4)/4 \n",
    "\n",
    "print(media)"
   ]
  },
  {
   "cell_type": "code",
   "execution_count": 17,
   "metadata": {},
   "outputs": [
    {
     "name": "stdout",
     "output_type": "stream",
     "text": [
      " O valor em centímetros é de 1000.0\n"
     ]
    }
   ],
   "source": [
    "#5\n",
    "\n",
    "metros= float(input('Insira o valor em metros: ')) \n",
    "\n",
    "resultado = metros * 100 \n",
    "\n",
    "print(f' O valor em centímetros é de {resultado}')"
   ]
  },
  {
   "cell_type": "code",
   "execution_count": 19,
   "metadata": {},
   "outputs": [
    {
     "name": "stdout",
     "output_type": "stream",
     "text": [
      " O valor da área do círculo é de 2827.4333882308138 \n"
     ]
    }
   ],
   "source": [
    "#6  \n",
    "\n",
    "\n",
    "raio = float(input('Insira o valor do raio do círculo: ')) \n",
    "\n",
    "area = 3.14 * (raio **2)\n",
    "\n",
    "print(f' O valor da área do círculo é de {area} ')"
   ]
  },
  {
   "cell_type": "code",
   "execution_count": null,
   "metadata": {},
   "outputs": [],
   "source": [
    "#7 \n",
    "l = int(input('Qual é o tamnho da lado quadrado: '))\n",
    "a = l*l \n",
    "a *= 2\n",
    "\n",
    "print (a)"
   ]
  },
  {
   "cell_type": "code",
   "execution_count": 28,
   "metadata": {},
   "outputs": [
    {
     "name": "stdout",
     "output_type": "stream",
     "text": [
      " Você trabalhou 20.0 horas, então o seu salário é de R$ 400.0\n"
     ]
    }
   ],
   "source": [
    "#8\n",
    "\n",
    "valor_hora = float(input(\"Quanto que você recebe por hora?\"))\n",
    "\n",
    "horas_trabalhada = float(input(\"Quantas horas você trabalhou\")) \n",
    "\n",
    "salario = valor_hora * horas_trabalhada\n",
    "\n",
    "print(f\" Você trabalhou {horas_trabalhada} horas, então o seu salário é de R$ {salario:}\")\n"
   ]
  },
  {
   "cell_type": "code",
   "execution_count": null,
   "metadata": {},
   "outputs": [],
   "source": [
    "#9\n",
    "f = float(input('Temperatura em Fahrenheit: '))\n",
    "\n",
    "C = 5*((f-32)/9)\n",
    "\n",
    "print (f' o valor em Ceusius é: {C: 1.1f}'+ '˚')"
   ]
  },
  {
   "cell_type": "code",
   "execution_count": 22,
   "metadata": {},
   "outputs": [
    {
     "name": "stdout",
     "output_type": "stream",
     "text": [
      "o valor em Fahrenheit é:  86.0°F\n"
     ]
    }
   ],
   "source": [
    "# 10 \n",
    "c = float(input('Informe a temperatura em °C'))\n",
    "f = (c * 1.8) + 32\n",
    "\n",
    "print(f'o valor em Fahrenheit é: {f: 1.1f}'+ '°F')"
   ]
  },
  {
   "cell_type": "code",
   "execution_count": 25,
   "metadata": {},
   "outputs": [
    {
     "name": "stdout",
     "output_type": "stream",
     "text": [
      "[1, 2, 3, 4, 5]\n",
      "[1, 2, 3, 4, 5, 6]\n",
      "[1, 2, 3, 4, 5, 6, 8]\n"
     ]
    }
   ],
   "source": [
    "#11\n",
    "\n",
    "lista = []\n",
    "num1 = int(input('Digite o primeiro número inteiro: '))\n",
    "lista.append(num1)\n",
    "num2 = int(input('Digite o segundo número inteiro: '))\n",
    "lista.append(num2)\n",
    "num3 = int(input('Digite o terceiro número inteiro: '))\n",
    "lista.append(num3)\n",
    "num4 = int(input('Digite o quarto número inteiro: '))\n",
    "lista.append(num4)\n",
    "num5 = int(input('Digite o quinto número inteiro: '))\n",
    "lista.append(num5)\n",
    "print(lista)"
   ]
  },
  {
   "cell_type": "code",
   "execution_count": 15,
   "metadata": {},
   "outputs": [
    {
     "name": "stdout",
     "output_type": "stream",
     "text": [
      "[10, 9, 8, 7, 6, 5, 4, 3, 2, 1]\n"
     ]
    }
   ],
   "source": [
    "#12 \n",
    "\n",
    "lista = []\n",
    "num1 = float(input('Digite um número real: '))\n",
    "lista.append(num1)\n",
    "num2 = float(input('Digite um número real: '))\n",
    "lista.append(num2)\n",
    "num3 = float(input('Digite um número real: '))\n",
    "lista.append(num3)\n",
    "num4 = float(input('Digite um número real: '))\n",
    "lista.append(num4)\n",
    "num5 = float(input('Digite um número real: '))\n",
    "lista.append(num5)\n",
    "num6 = float(input('Digite um número real: '))\n",
    "lista.append(num6)\n",
    "num7 = float(input('Digite um número real: '))\n",
    "lista.append(num7)\n",
    "num8 = float(input('Digite um número real: '))\n",
    "lista.append(num8)\n",
    "num9 = float(input('Digite um número real: '))\n",
    "lista.append(num9)\n",
    "num10 = float(input('Digite um número real: '))\n",
    "lista.append(num10)\n",
    "lista.reverse()\n",
    "print(lista)"
   ]
  },
  {
   "cell_type": "code",
   "execution_count": null,
   "metadata": {},
   "outputs": [],
   "source": [
    "#13 \n",
    "\n",
    "lista_notas = []\n",
    "nota1 = float(input('Digite uma nota: '))\n",
    "lista_notas.append(nota1)\n",
    "nota2 = float(input('Digite uma nota: '))\n",
    "lista_notas.append(nota2)\n",
    "nota3 = float(input('Digite uma nota: '))\n",
    "lista_notas.append(nota3)\n",
    "nota4 = float(input('Digite uma nota: '))\n",
    "lista_notas.append(nota4)\n",
    "print(lista_notas)\n",
    "lista_notas.remove(nota1)\n",
    "lista_notas.remove(nota3)\n",
    "print(lista_notas)"
   ]
  }
 ],
 "metadata": {
  "kernelspec": {
   "display_name": "Python 3.10.4 64-bit ('3.10.4')",
   "language": "python",
   "name": "python3"
  },
  "language_info": {
   "codemirror_mode": {
    "name": "ipython",
    "version": 3
   },
   "file_extension": ".py",
   "mimetype": "text/x-python",
   "name": "python",
   "nbconvert_exporter": "python",
   "pygments_lexer": "ipython3",
   "version": "3.10.4"
  },
  "orig_nbformat": 4,
  "vscode": {
   "interpreter": {
    "hash": "745b670ce5cd2e8d8999b26b5b66d3bf0e25bd3f27166ea229d63fb2f05f1305"
   }
  }
 },
 "nbformat": 4,
 "nbformat_minor": 2
}
